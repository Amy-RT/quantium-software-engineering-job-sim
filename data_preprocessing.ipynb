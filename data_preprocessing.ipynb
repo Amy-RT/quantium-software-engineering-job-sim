{
 "cells": [
  {
   "cell_type": "code",
   "execution_count": 1,
   "metadata": {},
   "outputs": [],
   "source": [
    "import pandas as pd\n",
    "\n",
    "table_1 = pd.read_csv('./data/daily_sales_data_0.csv')\n",
    "table_2 = pd.read_csv('./data/daily_sales_data_1.csv')\n",
    "table_3 = pd.read_csv('./data/daily_sales_data_2.csv')\n",
    "\n",
    "concatenated_df = pd.concat([table_1, table_2, table_3])\n",
    "\n",
    "sum_of_individual_lengths = len(table_1) + len(table_2) + len(table_3)\n",
    "assert len(concatenated_df) == sum_of_individual_lengths, f\"Concatenation length mismatch\""
   ]
  },
  {
   "cell_type": "code",
   "execution_count": 2,
   "metadata": {},
   "outputs": [
    {
     "name": "stderr",
     "output_type": "stream",
     "text": [
      "/var/folders/g3/bszrz_rs6mb8t56rn_y969bc0000gn/T/ipykernel_66473/2137945535.py:4: SettingWithCopyWarning: \n",
      "A value is trying to be set on a copy of a slice from a DataFrame\n",
      "\n",
      "See the caveats in the documentation: https://pandas.pydata.org/pandas-docs/stable/user_guide/indexing.html#returning-a-view-versus-a-copy\n",
      "  pink_morsel_df.drop(columns=['product'], inplace=True)\n"
     ]
    }
   ],
   "source": [
    "# filter dataframe for Pink Morsels\n",
    "is_pink_morsel = concatenated_df['product'] == 'pink morsel'\n",
    "pink_morsel_df = concatenated_df[is_pink_morsel]\n",
    "pink_morsel_df.drop(columns=['product'], inplace=True)"
   ]
  },
  {
   "cell_type": "code",
   "execution_count": 3,
   "metadata": {},
   "outputs": [
    {
     "name": "stderr",
     "output_type": "stream",
     "text": [
      "/var/folders/g3/bszrz_rs6mb8t56rn_y969bc0000gn/T/ipykernel_66473/3960066572.py:2: SettingWithCopyWarning: \n",
      "A value is trying to be set on a copy of a slice from a DataFrame.\n",
      "Try using .loc[row_indexer,col_indexer] = value instead\n",
      "\n",
      "See the caveats in the documentation: https://pandas.pydata.org/pandas-docs/stable/user_guide/indexing.html#returning-a-view-versus-a-copy\n",
      "  pink_morsel_df['price'] = pink_morsel_df['price'].str.replace('$', '', regex=False)\n",
      "/var/folders/g3/bszrz_rs6mb8t56rn_y969bc0000gn/T/ipykernel_66473/3960066572.py:4: SettingWithCopyWarning: \n",
      "A value is trying to be set on a copy of a slice from a DataFrame.\n",
      "Try using .loc[row_indexer,col_indexer] = value instead\n",
      "\n",
      "See the caveats in the documentation: https://pandas.pydata.org/pandas-docs/stable/user_guide/indexing.html#returning-a-view-versus-a-copy\n",
      "  pink_morsel_df['price'] = pink_morsel_df['price'].astype(float)\n",
      "/var/folders/g3/bszrz_rs6mb8t56rn_y969bc0000gn/T/ipykernel_66473/3960066572.py:6: SettingWithCopyWarning: \n",
      "A value is trying to be set on a copy of a slice from a DataFrame.\n",
      "Try using .loc[row_indexer,col_indexer] = value instead\n",
      "\n",
      "See the caveats in the documentation: https://pandas.pydata.org/pandas-docs/stable/user_guide/indexing.html#returning-a-view-versus-a-copy\n",
      "  pink_morsel_df['total_sales'] = pink_morsel_df['price'] * pink_morsel_df['quantity']\n",
      "/var/folders/g3/bszrz_rs6mb8t56rn_y969bc0000gn/T/ipykernel_66473/3960066572.py:7: SettingWithCopyWarning: \n",
      "A value is trying to be set on a copy of a slice from a DataFrame\n",
      "\n",
      "See the caveats in the documentation: https://pandas.pydata.org/pandas-docs/stable/user_guide/indexing.html#returning-a-view-versus-a-copy\n",
      "  pink_morsel_df.drop(columns=['price', 'quantity'], inplace=True)\n"
     ]
    },
    {
     "data": {
      "text/html": [
       "<div>\n",
       "<style scoped>\n",
       "    .dataframe tbody tr th:only-of-type {\n",
       "        vertical-align: middle;\n",
       "    }\n",
       "\n",
       "    .dataframe tbody tr th {\n",
       "        vertical-align: top;\n",
       "    }\n",
       "\n",
       "    .dataframe thead th {\n",
       "        text-align: right;\n",
       "    }\n",
       "</style>\n",
       "<table border=\"1\" class=\"dataframe\">\n",
       "  <thead>\n",
       "    <tr style=\"text-align: right;\">\n",
       "      <th></th>\n",
       "      <th>date</th>\n",
       "      <th>region</th>\n",
       "      <th>total_sales</th>\n",
       "    </tr>\n",
       "  </thead>\n",
       "  <tbody>\n",
       "    <tr>\n",
       "      <th>0</th>\n",
       "      <td>2018-02-06</td>\n",
       "      <td>north</td>\n",
       "      <td>1638.0</td>\n",
       "    </tr>\n",
       "    <tr>\n",
       "      <th>1</th>\n",
       "      <td>2018-02-06</td>\n",
       "      <td>south</td>\n",
       "      <td>1647.0</td>\n",
       "    </tr>\n",
       "    <tr>\n",
       "      <th>2</th>\n",
       "      <td>2018-02-06</td>\n",
       "      <td>east</td>\n",
       "      <td>1731.0</td>\n",
       "    </tr>\n",
       "    <tr>\n",
       "      <th>3</th>\n",
       "      <td>2018-02-06</td>\n",
       "      <td>west</td>\n",
       "      <td>1557.0</td>\n",
       "    </tr>\n",
       "    <tr>\n",
       "      <th>28</th>\n",
       "      <td>2018-02-07</td>\n",
       "      <td>north</td>\n",
       "      <td>1587.0</td>\n",
       "    </tr>\n",
       "  </tbody>\n",
       "</table>\n",
       "</div>"
      ],
      "text/plain": [
       "          date region  total_sales\n",
       "0   2018-02-06  north       1638.0\n",
       "1   2018-02-06  south       1647.0\n",
       "2   2018-02-06   east       1731.0\n",
       "3   2018-02-06   west       1557.0\n",
       "28  2018-02-07  north       1587.0"
      ]
     },
     "execution_count": 3,
     "metadata": {},
     "output_type": "execute_result"
    }
   ],
   "source": [
    "# remove the $ sign from the 'price' column ready to change the data type \n",
    "pink_morsel_df['price'] = pink_morsel_df['price'].str.replace('$', '', regex=False)\n",
    "# cast the 'price' data type ready to float ready for multiplication \n",
    "pink_morsel_df['price'] = pink_morsel_df['price'].astype(float)\n",
    "# calculate total sales\n",
    "pink_morsel_df['total_sales'] = pink_morsel_df['price'] * pink_morsel_df['quantity']\n",
    "pink_morsel_df.drop(columns=['price', 'quantity'], inplace=True)\n",
    "pink_morsel_df.head()"
   ]
  },
  {
   "cell_type": "code",
   "execution_count": 4,
   "metadata": {},
   "outputs": [],
   "source": [
    "pink_morsel_df.to_csv('./data/prepared_pink_morsel_data.csv')"
   ]
  },
  {
   "cell_type": "code",
   "execution_count": null,
   "metadata": {},
   "outputs": [],
   "source": []
  }
 ],
 "metadata": {
  "kernelspec": {
   "display_name": "Python 3",
   "language": "python",
   "name": "python3"
  },
  "language_info": {
   "codemirror_mode": {
    "name": "ipython",
    "version": 3
   },
   "file_extension": ".py",
   "mimetype": "text/x-python",
   "name": "python",
   "nbconvert_exporter": "python",
   "pygments_lexer": "ipython3",
   "version": "3.13.5"
  }
 },
 "nbformat": 4,
 "nbformat_minor": 2
}
